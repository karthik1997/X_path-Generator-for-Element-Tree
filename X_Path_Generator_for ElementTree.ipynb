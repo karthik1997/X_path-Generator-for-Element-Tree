{
 "cells": [
  {
   "cell_type": "markdown",
   "id": "eba75311",
   "metadata": {},
   "source": [
    "### Loading ElementTree "
   ]
  },
  {
   "cell_type": "code",
   "execution_count": 1,
   "id": "a3a8091a",
   "metadata": {},
   "outputs": [],
   "source": [
    "from xml.etree import ElementTree as ET"
   ]
  },
  {
   "cell_type": "markdown",
   "id": "a6bc5a80",
   "metadata": {},
   "source": [
    "### Main Function"
   ]
  },
  {
   "cell_type": "code",
   "execution_count": 2,
   "id": "38beb7e9",
   "metadata": {},
   "outputs": [],
   "source": [
    "class XpathGenerator():\n",
    "    #the function iteratively checks the root and child tags and returns the xpath for the same\n",
    "    def __init__(self):\n",
    "        #setting a variable for the repeated tag handling \n",
    "        #setting the counter for the notation\n",
    "        self.temp=''\n",
    "        self.c=2\n",
    "    def getpath(self,root, tag=None, path=None):\n",
    "        if tag is None or root.tag == tag:\n",
    "            yield path\n",
    "        for child in root:\n",
    "            if child.tag==self.temp:\n",
    "                child_path_set = f\"{path}/{child.tag}{[self.c]}\"\n",
    "                self.c+=1\n",
    "            else:\n",
    "                child_path_set = f\"{path}/{child.tag}\"\n",
    "            self.temp=child.tag\n",
    "            for child_path in self.getpath(child, tag, path=child_path_set):\n",
    "                yield child_path"
   ]
  },
  {
   "cell_type": "markdown",
   "id": "9403f981",
   "metadata": {},
   "source": [
    "### Loading the XML File"
   ]
  },
  {
   "cell_type": "code",
   "execution_count": 3,
   "id": "c5f3519d",
   "metadata": {},
   "outputs": [
    {
     "name": "stdout",
     "output_type": "stream",
     "text": [
      "/details\n",
      "/details/first_name\n",
      "/details/last_name\n",
      "/details/company_name\n",
      "/details/designation\n",
      "/details/designation[2]\n",
      "/details/state\n",
      "/details/state/state_name\n",
      "/details/state/district_name\n"
     ]
    }
   ],
   "source": [
    "xmldoc = ET.parse(\"karthik.xml\")\n",
    "root=xmldoc.getroot()\n",
    "XG=XpathGenerator()\n",
    "for path in XG.getpath(root,path = '/'+root.tag):\n",
    "    print(path)"
   ]
  },
  {
   "cell_type": "code",
   "execution_count": null,
   "id": "a882cc08",
   "metadata": {},
   "outputs": [],
   "source": []
  }
 ],
 "metadata": {
  "kernelspec": {
   "display_name": "Python 3 (ipykernel)",
   "language": "python",
   "name": "python3"
  },
  "language_info": {
   "codemirror_mode": {
    "name": "ipython",
    "version": 3
   },
   "file_extension": ".py",
   "mimetype": "text/x-python",
   "name": "python",
   "nbconvert_exporter": "python",
   "pygments_lexer": "ipython3",
   "version": "3.8.10"
  }
 },
 "nbformat": 4,
 "nbformat_minor": 5
}
